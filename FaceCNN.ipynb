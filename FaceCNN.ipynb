{
 "cells": [
  {
   "cell_type": "code",
   "execution_count": 1,
   "metadata": {},
   "outputs": [
    {
     "name": "stderr",
     "output_type": "stream",
     "text": [
      "c:\\Users\\91742\\AppData\\Local\\Programs\\Python\\Python39\\lib\\site-packages\\tqdm\\auto.py:22: TqdmWarning: IProgress not found. Please update jupyter and ipywidgets. See https://ipywidgets.readthedocs.io/en/stable/user_install.html\n",
      "  from .autonotebook import tqdm as notebook_tqdm\n"
     ]
    }
   ],
   "source": [
    "import cv2\n",
    "import matplotlib.pyplot as plt\n",
    "import pandas as pd\n",
    "import numpy as np\n",
    "\n",
    "from sklearn.model_selection import train_test_split\n",
    "\n",
    "import torch\n",
    "import torch.nn as nn\n",
    "import torchvision\n",
    "import torchvision.transforms as transforms\n",
    "from torch.utils.data import DataLoader\n",
    "\n",
    "import os\n",
    "import pathlib\n",
    "import shutil"
   ]
  },
  {
   "cell_type": "code",
   "execution_count": 3,
   "metadata": {},
   "outputs": [
    {
     "data": {
      "text/plain": [
       "'\\nSame dir structure as on Kaggle\\ninput/\\n    lfw-dataset/\\n        csv files\\n        lfw-deepfunneled/\\nworking/\\n    notebook\\n    data/\\n        train/\\n        val/\\n        test/\\n'"
      ]
     },
     "execution_count": 3,
     "metadata": {},
     "output_type": "execute_result"
    }
   ],
   "source": [
    "\"\"\"\n",
    "Same dir structure as on Kaggle\n",
    "input/\n",
    "    lfw-dataset/\n",
    "        csv files\n",
    "        lfw-deepfunneled/\n",
    "working/\n",
    "    notebook\n",
    "    data/\n",
    "        train/\n",
    "        val/\n",
    "        test/\n",
    "\"\"\""
   ]
  },
  {
   "cell_type": "code",
   "execution_count": 5,
   "metadata": {},
   "outputs": [],
   "source": [
    "device = (\"cuda\" if torch.cuda.is_available() else \"cpu\")"
   ]
  },
  {
   "cell_type": "code",
   "execution_count": 7,
   "metadata": {},
   "outputs": [],
   "source": [
    "data_folder = '../input/lfw-dataset/'"
   ]
  },
  {
   "cell_type": "code",
   "execution_count": 8,
   "metadata": {},
   "outputs": [],
   "source": [
    "lfw_allnames = pd.read_csv(data_folder+\"lfw_allnames.csv\")\n",
    "\n",
    "image_paths = lfw_allnames.loc[lfw_allnames.index.repeat(lfw_allnames['images'])]\n",
    "image_paths['image_path'] = 1 + image_paths.groupby('name').cumcount()\n",
    "image_paths['image_path'] = image_paths.image_path.apply(lambda x: str(x).zfill(4))\n",
    "image_paths['image_path'] = image_paths.name + \"/\" + image_paths.name + \"_\" + image_paths.image_path + \".jpg\"\n",
    "image_paths = image_paths.drop(\"images\", axis=1)"
   ]
  },
  {
   "cell_type": "code",
   "execution_count": 9,
   "metadata": {},
   "outputs": [
    {
     "name": "stdout",
     "output_type": "stream",
     "text": [
      "George_W_Bush      530\n",
      "Colin_Powell       236\n",
      "Tony_Blair         144\n",
      "Donald_Rumsfeld    121\n",
      "Name: name, dtype: int64\n",
      "['George_W_Bush', 'Colin_Powell', 'Tony_Blair', 'Donald_Rumsfeld'] [530, 236, 144, 121]\n"
     ]
    }
   ],
   "source": [
    "print(image_paths['name'].value_counts()[:4])\n",
    "list_people = list(image_paths['name'].value_counts()[:4].keys())\n",
    "list_num_images = list(image_paths['name'].value_counts()[:4])\n",
    "print(list_people, list_num_images)"
   ]
  },
  {
   "cell_type": "code",
   "execution_count": 40,
   "metadata": {},
   "outputs": [
    {
     "name": "stdout",
     "output_type": "stream",
     "text": [
      "               name                            image_path\n",
      "1871  George_W_Bush  George_W_Bush/George_W_Bush_0050.jpg\n",
      "1871  George_W_Bush  George_W_Bush/George_W_Bush_0193.jpg\n",
      "1871  George_W_Bush  George_W_Bush/George_W_Bush_0453.jpg\n",
      "1871  George_W_Bush  George_W_Bush/George_W_Bush_0285.jpg\n",
      "1871  George_W_Bush  George_W_Bush/George_W_Bush_0224.jpg\n",
      "...             ...                                   ...\n",
      "1047   Colin_Powell    Colin_Powell/Colin_Powell_0015.jpg\n",
      "1047   Colin_Powell    Colin_Powell/Colin_Powell_0093.jpg\n",
      "1047   Colin_Powell    Colin_Powell/Colin_Powell_0209.jpg\n",
      "1047   Colin_Powell    Colin_Powell/Colin_Powell_0007.jpg\n",
      "1047   Colin_Powell    Colin_Powell/Colin_Powell_0091.jpg\n",
      "\n",
      "[200 rows x 2 columns]\n"
     ]
    }
   ],
   "source": [
    "num_ppl = 2\n",
    "num_for_each = 100\n",
    "tmp_l = []\n",
    "for name in list(image_paths['name'].value_counts()[:num_ppl].keys()):\n",
    "    tmp_l.append(image_paths[image_paths.name==name].sample(num_for_each))\n",
    "data = pd.concat(tmp_l)\n",
    "print(data)"
   ]
  },
  {
   "cell_type": "code",
   "execution_count": 41,
   "metadata": {},
   "outputs": [],
   "source": [
    "data_train, data_test = train_test_split(data, test_size=0.2)\n",
    "data_train, data_val = train_test_split(data_train, test_size=0.2)"
   ]
  },
  {
   "cell_type": "code",
   "execution_count": 42,
   "metadata": {},
   "outputs": [
    {
     "name": "stdout",
     "output_type": "stream",
     "text": [
      "(128, 2) (32, 2) (40, 2)\n"
     ]
    }
   ],
   "source": [
    "print(data_train.shape, data_val.shape, data_test.shape)"
   ]
  },
  {
   "cell_type": "code",
   "execution_count": 43,
   "metadata": {},
   "outputs": [],
   "source": [
    "data_root = './data/'\n",
    "\n",
    "data_list = [data_train, data_val, data_test]\n",
    "dirs = ['train', 'val', 'test']\n",
    "\n",
    "# \"\"\"             # (un)comment this line and run, to copy\n",
    "\n",
    "# # remove data directory if it exists\n",
    "if os.path.exists(data_root) and os.path.isdir(data_root):\n",
    "    shutil.rmtree(data_root)\n",
    "\n",
    "for i in range(len(dirs)):\n",
    "    pathlib.Path(os.path.join(data_root, dirs[i])).mkdir(parents=True, exist_ok=True)\n",
    "    \n",
    "    for person in list_people:\n",
    "        if len(data_train[data_train['name']==person])>0:\n",
    "            pathlib.Path(os.path.join(data_root, dirs[i], person)).mkdir(parents=True, exist_ok=True)\n",
    "\n",
    "    for im_path in data_list[i].image_path:\n",
    "        name = data[data['image_path']==im_path]['name'].iloc[0]\n",
    "        path_from = os.path.join(data_folder+'/lfw-deepfunneled/lfw-deepfunneled/', im_path)\n",
    "        path_to = os.path.join(data_root, dirs[i], name)\n",
    "\n",
    "        if not os.path.isfile(os.path.join(path_to, im_path)):\n",
    "            shutil.copy(path_from, path_to)       # earlier (just copies image)\n",
    "\n",
    "# \"\"\""
   ]
  },
  {
   "cell_type": "code",
   "execution_count": 66,
   "metadata": {},
   "outputs": [],
   "source": [
    "train_path = os.path.join(data_root, dirs[0])\n",
    "val_path = os.path.join(data_root, dirs[1])\n",
    "test_path = os.path.join(data_root, dirs[2])\n",
    "\n",
    "train_transform = transforms.Compose(transforms=[\n",
    "    # transforms.RandomHorizontalFlip(),\n",
    "    transforms.Grayscale(num_output_channels=1),         # convert to grayscale\n",
    "    transforms.ToTensor(),\n",
    "    # transforms.Normalize(mean=0, std=255),      # output = (input-mean)/std\n",
    "])\n",
    "test_transform = transforms.Compose(transforms=[\n",
    "    transforms.Grayscale(num_output_channels=1),         # convert to grayscale\n",
    "    transforms.ToTensor(),\n",
    "    # transforms.Normalize(mean=0, std=255)\n",
    "])\n",
    "\n",
    "train_loader = DataLoader(\n",
    "    torchvision.datasets.ImageFolder(train_path, train_transform), shuffle=True     # batch_size\n",
    ")\n",
    "val_loader = DataLoader(\n",
    "    torchvision.datasets.ImageFolder(val_path, test_transform), shuffle=True\n",
    ")\n",
    "test_loader = DataLoader(\n",
    "    torchvision.datasets.ImageFolder(test_path, test_transform), shuffle=True\n",
    ")"
   ]
  },
  {
   "cell_type": "code",
   "execution_count": 67,
   "metadata": {},
   "outputs": [
    {
     "name": "stdout",
     "output_type": "stream",
     "text": [
      "torch.Size([1, 1, 250, 250]) torch.Size([1])\n",
      "tensor([[[[0.0039, 0.0078, 0.0118,  ..., 0.0000, 0.0000, 0.0000],\n",
      "          [0.0039, 0.0118, 0.0235,  ..., 0.0000, 0.0000, 0.0000],\n",
      "          [0.0039, 0.0039, 0.0039,  ..., 0.0000, 0.0000, 0.0000],\n",
      "          ...,\n",
      "          [0.0039, 0.0000, 0.0000,  ..., 0.0000, 0.0000, 0.0000],\n",
      "          [0.0000, 0.0000, 0.0000,  ..., 0.0000, 0.0000, 0.0000],\n",
      "          [0.0000, 0.0000, 0.0000,  ..., 0.0000, 0.0000, 0.0000]]]]) tensor([1])\n"
     ]
    }
   ],
   "source": [
    "for data in train_loader:\n",
    "    print(data[0].shape, data[1].shape)\n",
    "    print(data[0], data[1])\n",
    "    break\n",
    "# Total train data is of shape (128, 3, 250, 250)"
   ]
  },
  {
   "cell_type": "code",
   "execution_count": 68,
   "metadata": {},
   "outputs": [],
   "source": [
    "class FaceCNN(nn.Module):\n",
    "    def __init__(self, num_classes, stride=1, padding=1):\n",
    "        super().__init__()\n",
    "\n",
    "        self.network = nn.Sequential(\n",
    "\n",
    "        nn.Conv2d(in_channels=1, out_channels=50, kernel_size=3, stride=stride, padding=padding),\n",
    "        nn.ReLU(),\n",
    "        nn.MaxPool2d(kernel_size=2),\n",
    "\n",
    "        nn.Conv2d(in_channels=50, out_channels=20, kernel_size=3, stride=stride, padding=padding),\n",
    "        nn.ReLU(),\n",
    "\n",
    "        nn.Flatten(),\n",
    "        nn.Linear(in_features=20*125*125, out_features=num_classes)\n",
    "\n",
    "        )\n",
    "\n",
    "    def forward(self, input):\n",
    "        output = self.network(input)\n",
    "        return output"
   ]
  },
  {
   "cell_type": "code",
   "execution_count": 69,
   "metadata": {},
   "outputs": [],
   "source": [
    "model = FaceCNN(num_classes=len(list_people))\n",
    "# for e in model.parameters():\n",
    "#     print(e)\n",
    "\n",
    "# optimizer = torch.optim.Adam(model.parameters(), lr=1e-3, weight_decay=1e-3)\n",
    "optimizer = torch.optim.SGD(model.parameters(), lr=1e-3, weight_decay=1e-3)\n",
    "loss_fn = nn.CrossEntropyLoss()\n",
    "num_epochs = 10"
   ]
  },
  {
   "cell_type": "code",
   "execution_count": 70,
   "metadata": {},
   "outputs": [],
   "source": [
    "def evaluate(loader, model):\n",
    "\n",
    "    model.eval()\n",
    "\n",
    "    score = 0\n",
    "    cnt = 0\n",
    "\n",
    "    with torch.no_grad():       # not training, so no need to calculate gradients\n",
    "        for data in loader:\n",
    "            # images, labels = data\n",
    "            output = model(data[0])\n",
    "            _, pred = torch.max(output.data, 1)\n",
    "            score += float(torch.sum(pred==data[1].data))\n",
    "            cnt += data[0].shape[0]\n",
    "\n",
    "    return score/cnt"
   ]
  },
  {
   "cell_type": "code",
   "execution_count": 71,
   "metadata": {},
   "outputs": [],
   "source": [
    "def train():\n",
    "    best_acc = 0.0\n",
    "    \n",
    "    for epoch in range(num_epochs):\n",
    "        train_score = 0\n",
    "        cnt = 0\n",
    "        train_loss = 0\n",
    "\n",
    "        model.train()\n",
    "        \n",
    "        for batch in train_loader:\n",
    "            optimizer.zero_grad()\n",
    "            \n",
    "            output = model(batch[0])\n",
    "            label = batch[1]\n",
    "            \n",
    "            # print(output, label)\n",
    "\n",
    "            loss = loss_fn(output, label)\n",
    "            loss.backward()\n",
    "            optimizer.step()\n",
    "            \n",
    "            train_loss += loss.item()\n",
    "\n",
    "            _, pred = torch.max(output.data, 1)\n",
    "            train_score += float(torch.sum(pred==label.data))\n",
    "            cnt += batch[0].shape[0]\n",
    "\n",
    "            # print(pred, label)\n",
    "\n",
    "        train_acc = train_score/cnt\n",
    "        val_acc = evaluate(val_loader, model)\n",
    "        \n",
    "        print(\"Epoch:\", epoch, \"\\tLoss:\", train_loss, \"\\tTraining Acc:\", train_acc, \"\\tVal Acc:\", val_acc)\n",
    "\n",
    "        if val_acc > best_acc:\n",
    "            torch.save(model.state_dict(),'best.model')\n",
    "            best_acc = val_acc"
   ]
  },
  {
   "cell_type": "code",
   "execution_count": 72,
   "metadata": {},
   "outputs": [
    {
     "name": "stdout",
     "output_type": "stream",
     "text": [
      "Epoch: 0 \tLoss: 94.8775675855577 \tTraining Acc: 0.609375 \tVal Acc: 0.59375\n",
      "Epoch: 1 \tLoss: 53.81232296070084 \tTraining Acc: 0.796875 \tVal Acc: 0.65625\n",
      "Epoch: 2 \tLoss: 38.94367816718295 \tTraining Acc: 0.859375 \tVal Acc: 0.65625\n",
      "Epoch: 3 \tLoss: 25.83747902115283 \tTraining Acc: 0.9140625 \tVal Acc: 0.8125\n",
      "Epoch: 4 \tLoss: 17.01080100826391 \tTraining Acc: 0.9609375 \tVal Acc: 0.78125\n",
      "Epoch: 5 \tLoss: 8.279684771033772 \tTraining Acc: 1.0 \tVal Acc: 0.75\n",
      "Epoch: 6 \tLoss: 5.506924839863814 \tTraining Acc: 0.9921875 \tVal Acc: 0.8125\n",
      "Epoch: 7 \tLoss: 2.6905345285194286 \tTraining Acc: 1.0 \tVal Acc: 0.78125\n",
      "Epoch: 8 \tLoss: 1.8893507739936624 \tTraining Acc: 1.0 \tVal Acc: 0.78125\n",
      "Epoch: 9 \tLoss: 1.3462658694816056 \tTraining Acc: 1.0 \tVal Acc: 0.8125\n"
     ]
    }
   ],
   "source": [
    "train()"
   ]
  }
 ],
 "metadata": {
  "kernelspec": {
   "display_name": "Python 3.9.4 64-bit",
   "language": "python",
   "name": "python3"
  },
  "language_info": {
   "codemirror_mode": {
    "name": "ipython",
    "version": 3
   },
   "file_extension": ".py",
   "mimetype": "text/x-python",
   "name": "python",
   "nbconvert_exporter": "python",
   "pygments_lexer": "ipython3",
   "version": "3.9.4"
  },
  "orig_nbformat": 4,
  "vscode": {
   "interpreter": {
    "hash": "8ffc022e556dbf9e4707e0813792d41f1f0550f46106b79e6c9a363a1f17dd45"
   }
  }
 },
 "nbformat": 4,
 "nbformat_minor": 2
}
