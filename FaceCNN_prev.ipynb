{
 "cells": [
  {
   "cell_type": "code",
   "execution_count": 1,
   "metadata": {},
   "outputs": [
    {
     "name": "stderr",
     "output_type": "stream",
     "text": [
      "c:\\Users\\91742\\AppData\\Local\\Programs\\Python\\Python39\\lib\\site-packages\\tqdm\\auto.py:22: TqdmWarning: IProgress not found. Please update jupyter and ipywidgets. See https://ipywidgets.readthedocs.io/en/stable/user_install.html\n",
      "  from .autonotebook import tqdm as notebook_tqdm\n"
     ]
    }
   ],
   "source": [
    "import cv2\n",
    "import matplotlib.pyplot as plt\n",
    "import pandas as pd\n",
    "import numpy as np\n",
    "\n",
    "from sklearn.model_selection import train_test_split\n",
    "\n",
    "import torch\n",
    "import torch.nn as nn\n",
    "import torchvision\n",
    "import torchvision.transforms as transforms\n",
    "from torch.utils.data import DataLoader\n",
    "\n",
    "import os\n",
    "import pathlib\n",
    "import shutil"
   ]
  },
  {
   "cell_type": "code",
   "execution_count": 3,
   "metadata": {},
   "outputs": [
    {
     "data": {
      "text/plain": [
       "'\\nSame dir structure as on Kaggle\\ninput/\\n    lfw-dataset/\\n        csv files\\n        lfw-deepfunneled/\\nworking/\\n    notebook\\n    data/\\n        train/\\n        val/\\n        test/\\n'"
      ]
     },
     "execution_count": 3,
     "metadata": {},
     "output_type": "execute_result"
    }
   ],
   "source": [
    "\"\"\"\n",
    "Same dir structure as on Kaggle\n",
    "input/\n",
    "    lfw-dataset/\n",
    "        csv files\n",
    "        lfw-deepfunneled/\n",
    "working/\n",
    "    notebook\n",
    "    data/\n",
    "        train/\n",
    "        val/\n",
    "        test/\n",
    "\"\"\""
   ]
  },
  {
   "cell_type": "code",
   "execution_count": 5,
   "metadata": {},
   "outputs": [],
   "source": [
    "device = (\"cuda\" if torch.cuda.is_available() else \"cpu\")"
   ]
  },
  {
   "cell_type": "code",
   "execution_count": 7,
   "metadata": {},
   "outputs": [],
   "source": [
    "data_folder = '../input/lfw-dataset/'"
   ]
  },
  {
   "cell_type": "code",
   "execution_count": 8,
   "metadata": {},
   "outputs": [],
   "source": [
    "lfw_allnames = pd.read_csv(data_folder+\"lfw_allnames.csv\")\n",
    "\n",
    "image_paths = lfw_allnames.loc[lfw_allnames.index.repeat(lfw_allnames['images'])]\n",
    "image_paths['image_path'] = 1 + image_paths.groupby('name').cumcount()\n",
    "image_paths['image_path'] = image_paths.image_path.apply(lambda x: str(x).zfill(4))\n",
    "image_paths['image_path'] = image_paths.name + \"/\" + image_paths.name + \"_\" + image_paths.image_path + \".jpg\"\n",
    "image_paths = image_paths.drop(\"images\", axis=1)"
   ]
  },
  {
   "cell_type": "code",
   "execution_count": 86,
   "metadata": {},
   "outputs": [
    {
     "name": "stdout",
     "output_type": "stream",
     "text": [
      "George_W_Bush      530\n",
      "Colin_Powell       236\n",
      "Tony_Blair         144\n",
      "Donald_Rumsfeld    121\n",
      "Name: name, dtype: int64\n",
      "['George_W_Bush', 'Colin_Powell', 'Tony_Blair', 'Donald_Rumsfeld'] [530, 236, 144, 121]\n"
     ]
    }
   ],
   "source": [
    "num_ppl = 4\n",
    "\n",
    "print(image_paths['name'].value_counts()[:num_ppl])\n",
    "list_people = list(image_paths['name'].value_counts()[:num_ppl].keys())\n",
    "list_num_images = list(image_paths['name'].value_counts()[:num_ppl])\n",
    "print(list_people, list_num_images)"
   ]
  },
  {
   "cell_type": "code",
   "execution_count": 87,
   "metadata": {},
   "outputs": [
    {
     "name": "stdout",
     "output_type": "stream",
     "text": [
      "                 name                                image_path\n",
      "1871    George_W_Bush      George_W_Bush/George_W_Bush_0351.jpg\n",
      "1871    George_W_Bush      George_W_Bush/George_W_Bush_0172.jpg\n",
      "1871    George_W_Bush      George_W_Bush/George_W_Bush_0419.jpg\n",
      "1871    George_W_Bush      George_W_Bush/George_W_Bush_0127.jpg\n",
      "1871    George_W_Bush      George_W_Bush/George_W_Bush_0530.jpg\n",
      "...               ...                                       ...\n",
      "1404  Donald_Rumsfeld  Donald_Rumsfeld/Donald_Rumsfeld_0034.jpg\n",
      "1404  Donald_Rumsfeld  Donald_Rumsfeld/Donald_Rumsfeld_0028.jpg\n",
      "1404  Donald_Rumsfeld  Donald_Rumsfeld/Donald_Rumsfeld_0079.jpg\n",
      "1404  Donald_Rumsfeld  Donald_Rumsfeld/Donald_Rumsfeld_0049.jpg\n",
      "1404  Donald_Rumsfeld  Donald_Rumsfeld/Donald_Rumsfeld_0020.jpg\n",
      "\n",
      "[400 rows x 2 columns]\n"
     ]
    }
   ],
   "source": [
    "num_for_each = 100\n",
    "tmp_l = []\n",
    "for name in list(image_paths['name'].value_counts()[:num_ppl].keys()):\n",
    "    tmp_l.append(image_paths[image_paths.name==name].sample(num_for_each))\n",
    "data = pd.concat(tmp_l)\n",
    "print(data)"
   ]
  },
  {
   "cell_type": "code",
   "execution_count": 88,
   "metadata": {},
   "outputs": [],
   "source": [
    "data_train, data_test = train_test_split(data, test_size=0.2)\n",
    "data_train, data_val = train_test_split(data_train, test_size=0.2)"
   ]
  },
  {
   "cell_type": "code",
   "execution_count": 89,
   "metadata": {},
   "outputs": [
    {
     "name": "stdout",
     "output_type": "stream",
     "text": [
      "(256, 2) (64, 2) (80, 2)\n"
     ]
    }
   ],
   "source": [
    "print(data_train.shape, data_val.shape, data_test.shape)"
   ]
  },
  {
   "cell_type": "code",
   "execution_count": 90,
   "metadata": {},
   "outputs": [],
   "source": [
    "data_root = './data/'\n",
    "\n",
    "data_list = [data_train, data_val, data_test]\n",
    "dirs = ['train', 'val', 'test']\n",
    "\n",
    "# \"\"\"             # (un)comment this line and run, to copy\n",
    "\n",
    "# # remove data directory if it exists\n",
    "if os.path.exists(data_root) and os.path.isdir(data_root):\n",
    "    shutil.rmtree(data_root)\n",
    "\n",
    "for i in range(len(dirs)):\n",
    "    pathlib.Path(os.path.join(data_root, dirs[i])).mkdir(parents=True, exist_ok=True)\n",
    "    \n",
    "    for person in list_people:\n",
    "        if len(data_train[data_train['name']==person])>0:\n",
    "            pathlib.Path(os.path.join(data_root, dirs[i], person)).mkdir(parents=True, exist_ok=True)\n",
    "\n",
    "    for im_path in data_list[i].image_path:\n",
    "        name = data[data['image_path']==im_path]['name'].iloc[0]\n",
    "        path_from = os.path.join(data_folder+'/lfw-deepfunneled/lfw-deepfunneled/', im_path)\n",
    "        path_to = os.path.join(data_root, dirs[i], name)\n",
    "\n",
    "        if not os.path.isfile(os.path.join(path_to, im_path)):\n",
    "            shutil.copy(path_from, path_to)       # earlier (just copies image)\n",
    "\n",
    "# \"\"\""
   ]
  },
  {
   "cell_type": "code",
   "execution_count": 121,
   "metadata": {},
   "outputs": [],
   "source": [
    "train_path = os.path.join(data_root, dirs[0])\n",
    "val_path = os.path.join(data_root, dirs[1])\n",
    "test_path = os.path.join(data_root, dirs[2])\n",
    "\n",
    "train_transform = transforms.Compose(transforms=[\n",
    "    # transforms.RandomHorizontalFlip(),\n",
    "    # transforms.Grayscale(num_output_channels=1),         # convert to grayscale\n",
    "    transforms.ToTensor(),\n",
    "    # transforms.Normalize(mean=0, std=255),      # output = (input-mean)/std\n",
    "])\n",
    "test_transform = transforms.Compose(transforms=[\n",
    "    # transforms.Grayscale(num_output_channels=1),         # convert to grayscale\n",
    "    transforms.ToTensor(),\n",
    "    # transforms.Normalize(mean=0, std=255)\n",
    "])\n",
    "\n",
    "train_loader = DataLoader(\n",
    "    torchvision.datasets.ImageFolder(train_path, train_transform), shuffle=True     # batch_size\n",
    ")\n",
    "val_loader = DataLoader(\n",
    "    torchvision.datasets.ImageFolder(val_path, test_transform), shuffle=True\n",
    ")\n",
    "test_loader = DataLoader(\n",
    "    torchvision.datasets.ImageFolder(test_path, test_transform), shuffle=True\n",
    ")"
   ]
  },
  {
   "cell_type": "code",
   "execution_count": 122,
   "metadata": {},
   "outputs": [
    {
     "name": "stdout",
     "output_type": "stream",
     "text": [
      "torch.Size([1, 3, 250, 250]) torch.Size([1])\n",
      "tensor([[[[0.0196, 0.0235, 0.0275,  ..., 0.7451, 0.0000, 0.0000],\n",
      "          [0.0196, 0.0235, 0.0275,  ..., 0.7373, 0.0000, 0.0000],\n",
      "          [0.0196, 0.0235, 0.0275,  ..., 0.7333, 0.0000, 0.0000],\n",
      "          ...,\n",
      "          [0.2196, 0.1451, 0.0824,  ..., 0.1137, 0.0000, 0.0000],\n",
      "          [0.0000, 0.0000, 0.0000,  ..., 0.0000, 0.0000, 0.0000],\n",
      "          [0.0000, 0.0000, 0.0000,  ..., 0.0000, 0.0000, 0.0000]],\n",
      "\n",
      "         [[0.0039, 0.0078, 0.0118,  ..., 0.7451, 0.0000, 0.0000],\n",
      "          [0.0039, 0.0078, 0.0118,  ..., 0.7373, 0.0000, 0.0000],\n",
      "          [0.0039, 0.0078, 0.0118,  ..., 0.7333, 0.0000, 0.0000],\n",
      "          ...,\n",
      "          [0.2196, 0.1451, 0.0824,  ..., 0.1255, 0.0000, 0.0000],\n",
      "          [0.0000, 0.0000, 0.0000,  ..., 0.0000, 0.0000, 0.0000],\n",
      "          [0.0000, 0.0000, 0.0000,  ..., 0.0000, 0.0000, 0.0000]],\n",
      "\n",
      "         [[0.0078, 0.0118, 0.0157,  ..., 0.7451, 0.0000, 0.0000],\n",
      "          [0.0078, 0.0118, 0.0157,  ..., 0.7373, 0.0000, 0.0000],\n",
      "          [0.0078, 0.0118, 0.0157,  ..., 0.7333, 0.0000, 0.0000],\n",
      "          ...,\n",
      "          [0.2196, 0.1451, 0.0824,  ..., 0.1451, 0.0157, 0.0157],\n",
      "          [0.0000, 0.0000, 0.0000,  ..., 0.0157, 0.0157, 0.0078],\n",
      "          [0.0000, 0.0000, 0.0000,  ..., 0.0157, 0.0078, 0.0078]]]]) tensor([3])\n",
      "tensor(0.3000)\n"
     ]
    }
   ],
   "source": [
    "for data in train_loader:\n",
    "    print(data[0].shape, data[1].shape)\n",
    "    print(data[0], data[1])\n",
    "    print(torch.mean(data[0]))\n",
    "    break\n",
    "# Total train data is of shape (128, 3, 250, 250)"
   ]
  },
  {
   "cell_type": "code",
   "execution_count": 132,
   "metadata": {},
   "outputs": [],
   "source": [
    "class FaceCNN(nn.Module):\n",
    "    def __init__(self, num_input_channels, num_classes, stride=1, padding=1):\n",
    "        super().__init__()\n",
    "\n",
    "        self.network = nn.Sequential(\n",
    "\n",
    "        nn.Conv2d(in_channels=num_input_channels, out_channels=50, kernel_size=3, stride=stride, padding=padding),\n",
    "        nn.ReLU(),\n",
    "        nn.MaxPool2d(kernel_size=2),\n",
    "\n",
    "        nn.Conv2d(in_channels=50, out_channels=20, kernel_size=3, stride=stride, padding=padding),\n",
    "        nn.ReLU(),\n",
    "\n",
    "        nn.Flatten(),\n",
    "        nn.Linear(in_features=20*125*125, out_features=num_classes)\n",
    "\n",
    "        )\n",
    "\n",
    "    def forward(self, input):\n",
    "        output = self.network(input)\n",
    "        return output"
   ]
  },
  {
   "cell_type": "code",
   "execution_count": 133,
   "metadata": {},
   "outputs": [],
   "source": [
    "model = FaceCNN(num_input_channels=3, num_classes=len(list_people))\n",
    "# for e in model.parameters():\n",
    "#     print(e)\n",
    "\n",
    "# optimizer = torch.optim.Adam(model.parameters(), lr=1e-3, weight_decay=1e-3)\n",
    "optimizer = torch.optim.SGD(model.parameters(), lr=1e-3, weight_decay=1e-3)\n",
    "loss_fn = nn.CrossEntropyLoss()\n",
    "num_epochs = 15"
   ]
  },
  {
   "cell_type": "code",
   "execution_count": 134,
   "metadata": {},
   "outputs": [],
   "source": [
    "def evaluate(loader, model):\n",
    "\n",
    "    model.eval()\n",
    "\n",
    "    score = 0\n",
    "    cnt = 0\n",
    "\n",
    "    with torch.no_grad():       # not training, so no need to calculate gradients\n",
    "        for data in loader:\n",
    "            # images, labels = data\n",
    "            output = model(data[0])\n",
    "            _, pred = torch.max(output.data, 1)\n",
    "            score += float(torch.sum(pred==data[1].data))\n",
    "            cnt += data[0].shape[0]\n",
    "\n",
    "    return score/cnt"
   ]
  },
  {
   "cell_type": "code",
   "execution_count": 135,
   "metadata": {},
   "outputs": [],
   "source": [
    "def train():\n",
    "    best_acc = 0.0\n",
    "    \n",
    "    for epoch in range(num_epochs):\n",
    "        train_score = 0\n",
    "        cnt = 0\n",
    "        train_loss = 0\n",
    "\n",
    "        model.train()\n",
    "        \n",
    "        for batch in train_loader:\n",
    "            optimizer.zero_grad()\n",
    "            \n",
    "            output = model(batch[0])\n",
    "            label = batch[1]\n",
    "            \n",
    "            # print(output, label)\n",
    "\n",
    "            loss = loss_fn(output, label)\n",
    "            loss.backward()\n",
    "            optimizer.step()\n",
    "            \n",
    "            train_loss += loss.item()\n",
    "\n",
    "            _, pred = torch.max(output.data, 1)\n",
    "            train_score += float(torch.sum(pred==label.data))\n",
    "            cnt += batch[0].shape[0]\n",
    "\n",
    "            # print(pred, label)\n",
    "\n",
    "        train_acc = train_score/cnt\n",
    "        val_acc = evaluate(val_loader, model)\n",
    "        \n",
    "        print(\"Epoch:\", epoch, \"\\tLoss:\", train_loss, \"\\tTraining Acc:\", train_acc, \"\\tVal Acc:\", val_acc)\n",
    "\n",
    "        if val_acc > best_acc:\n",
    "            torch.save(model.state_dict(),'best.model')\n",
    "            best_acc = val_acc"
   ]
  },
  {
   "cell_type": "code",
   "execution_count": null,
   "metadata": {},
   "outputs": [],
   "source": [
    "train()"
   ]
  },
  {
   "cell_type": "code",
   "execution_count": 1,
   "metadata": {},
   "outputs": [
    {
     "ename": "NameError",
     "evalue": "name 'torch' is not defined",
     "output_type": "error",
     "traceback": [
      "\u001b[1;31m---------------------------------------------------------------------------\u001b[0m",
      "\u001b[1;31mNameError\u001b[0m                                 Traceback (most recent call last)",
      "\u001b[1;32m~\\AppData\\Local\\Temp/ipykernel_9084/3209257220.py\u001b[0m in \u001b[0;36m<module>\u001b[1;34m\u001b[0m\n\u001b[1;32m----> 1\u001b[1;33m \u001b[0mbest_model\u001b[0m \u001b[1;33m=\u001b[0m \u001b[0mtorch\u001b[0m\u001b[1;33m.\u001b[0m\u001b[0mload\u001b[0m\u001b[1;33m(\u001b[0m\u001b[1;34m'best.model'\u001b[0m\u001b[1;33m)\u001b[0m\u001b[1;33m.\u001b[0m\u001b[0mto\u001b[0m\u001b[1;33m(\u001b[0m\u001b[0mdevice\u001b[0m\u001b[1;33m)\u001b[0m\u001b[1;33m\u001b[0m\u001b[1;33m\u001b[0m\u001b[0m\n\u001b[0m\u001b[0;32m      2\u001b[0m \u001b[0mscore\u001b[0m \u001b[1;33m=\u001b[0m \u001b[1;36m0\u001b[0m\u001b[1;33m\u001b[0m\u001b[1;33m\u001b[0m\u001b[0m\n\u001b[0;32m      3\u001b[0m \u001b[0mcnt\u001b[0m \u001b[1;33m=\u001b[0m \u001b[1;36m0\u001b[0m\u001b[1;33m\u001b[0m\u001b[1;33m\u001b[0m\u001b[0m\n\u001b[0;32m      4\u001b[0m \u001b[1;33m\u001b[0m\u001b[0m\n\u001b[0;32m      5\u001b[0m \u001b[1;32mwith\u001b[0m \u001b[0mtorch\u001b[0m\u001b[1;33m.\u001b[0m\u001b[0mno_grad\u001b[0m\u001b[1;33m(\u001b[0m\u001b[1;33m)\u001b[0m\u001b[1;33m:\u001b[0m\u001b[1;33m\u001b[0m\u001b[1;33m\u001b[0m\u001b[0m\n",
      "\u001b[1;31mNameError\u001b[0m: name 'torch' is not defined"
     ]
    }
   ],
   "source": [
    "best_model = torch.load('best.model')\n",
    "score = 0\n",
    "cnt = 0\n",
    "\n",
    "with torch.no_grad():\n",
    "    for data in test_loader:\n",
    "        # images, labels = data\n",
    "        output = model(data[0])\n",
    "        _, pred = torch.max(output.data, 1)\n",
    "        score += float(torch.sum(pred==data[1].data))\n",
    "        cnt += data[0].shape[0]\n",
    "\n",
    "print(score/cnt)"
   ]
  },
  {
   "cell_type": "markdown",
   "metadata": {},
   "source": [
    "### Train Stats\n",
    "\n",
    "```\n",
    "num_ppl=4, num_for_each=100, num_input_channels=3, SGD\n",
    "\n",
    "Epoch: 0 \tLoss: 358.62260937690735 \tTraining Acc: 0.3046875 \tVal Acc: 0.390625\n",
    "Epoch: 1 \tLoss: 333.57504665851593 \tTraining Acc: 0.4453125 \tVal Acc: 0.5\n",
    "Epoch: 2 \tLoss: 287.8054849989712 \tTraining Acc: 0.53515625 \tVal Acc: 0.484375\n",
    "Epoch: 3 \tLoss: 214.57957464270294 \tTraining Acc: 0.66796875 \tVal Acc: 0.546875\n",
    "Epoch: 4 \tLoss: 128.76155146129895 \tTraining Acc: 0.8515625 \tVal Acc: 0.6875\n",
    "Epoch: 5 \tLoss: 66.8646472900873 \t    Training Acc: 0.9375 \t    Val Acc: 0.609375\n",
    "Epoch: 6 \tLoss: 38.552940751942515 \tTraining Acc: 0.96484375 \tVal Acc: 0.65625\n",
    "Epoch: 7 \tLoss: 14.400232573081496 \tTraining Acc: 0.99609375 \tVal Acc: 0.640625\n",
    "Epoch: 8 \tLoss: 6.6097561110264 \t    Training Acc: 1.0 \t        Val Acc: 0.71875\n",
    "Epoch: 9 \tLoss: 3.2570621859687208 \tTraining Acc: 1.0 \t        Val Acc: 0.6875\n",
    "Epoch: 10 \tLoss: 2.2477716574980775 \tTraining Acc: 1.0 \t        Val Acc: 0.6875\n",
    "Epoch: 11 \tLoss: 1.6625592309815147 \tTraining Acc: 1.0 \t        Val Acc: 0.734375\n",
    "Epoch: 12 \tLoss: 1.2643641760919024 \tTraining Acc: 1.0 \t        Val Acc: 0.6875\n",
    "Epoch: 13 \tLoss: 1.0747595029670762 \tTraining Acc: 1.0 \t        Val Acc: 0.71875\n",
    "Epoch: 14 \tLoss: 0.8993665239690074 \tTraining Acc: 1.0 \t        Val Acc: 0.6875\n",
    "\n",
    "Test Acc: 0.85\n",
    "```\n"
   ]
  }
 ],
 "metadata": {
  "kernelspec": {
   "display_name": "Python 3.9.4 64-bit",
   "language": "python",
   "name": "python3"
  },
  "language_info": {
   "codemirror_mode": {
    "name": "ipython",
    "version": 3
   },
   "file_extension": ".py",
   "mimetype": "text/x-python",
   "name": "python",
   "nbconvert_exporter": "python",
   "pygments_lexer": "ipython3",
   "version": "3.9.4"
  },
  "orig_nbformat": 4,
  "vscode": {
   "interpreter": {
    "hash": "8ffc022e556dbf9e4707e0813792d41f1f0550f46106b79e6c9a363a1f17dd45"
   }
  }
 },
 "nbformat": 4,
 "nbformat_minor": 2
}
